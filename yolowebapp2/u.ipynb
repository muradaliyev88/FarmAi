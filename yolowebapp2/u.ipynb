{
 "cells": [
  {
   "cell_type": "code",
   "execution_count": 1,
   "id": "d4592dcd",
   "metadata": {},
   "outputs": [],
   "source": [
    "import torch\n",
    "from torchvision import transforms\n",
    "from PIL import Image\n",
    "from pathlib import Path\n",
    "import numpy as np"
   ]
  },
  {
   "cell_type": "code",
   "execution_count": 2,
   "id": "85e1d712",
   "metadata": {},
   "outputs": [],
   "source": [
    "transform = transforms.Compose([\n",
    "        transforms.Resize(256),\n",
    "        transforms.CenterCrop(256),\n",
    "        transforms.ToTensor(),\n",
    "        transforms.Normalize([0.485, 0.456, 0.406], [0.229, 0.224, 0.225])\n",
    "    ])\n"
   ]
  },
  {
   "cell_type": "code",
   "execution_count": 3,
   "id": "cae6ad2d",
   "metadata": {},
   "outputs": [],
   "source": [
    "\n",
    "leaf_class = {1:{'name': 'Apple Scab', 'recommendations':'test etdim',},\n",
    "              2:{'name': 'Apple Black rot', 'recommendations':'test etdim2'},\n",
    "              3:{'name': 'Apple Healthy', 'recommendations':'test etdim2'},\n",
    "              4:{'name': 'Blueberry Healthy', 'recommendations':'test etdim2'},\n",
    "              5:{'name': 'Cherry (including_sour) Powdery mildew', 'recommendations':'test etdim2'},\n",
    "              6:{'name': 'Cherry (including_sour) Healthy', 'recommendations':'test etdim2'},\n",
    "              7:{'name': 'Corn (maize) Cercospora leaf spot Gray leaf spot', 'recommendations':'test etdim2'},\n",
    "              8:{'name': 'Corn (maize) Common rust', 'recommendations':'test etdim2'},\n",
    "              9:{'name': 'Apple Black rot', 'recommendations':'test etdim2'},\n",
    "              10:{'name': 'Corn (maize) Northern Leaf Blight', 'recommendations':'test etdim2'},\n",
    "              11:{'name': 'Corn (maize) healthy', 'recommendations':'test etdim2'},\n",
    "              12:{'name': 'Grape Black rot', 'recommendations':'test etdim2'},\n",
    "              13:{'name': 'Grape Esca (Black Measles)', 'recommendations':'test etdim2'},\n",
    "              14:{'name': 'Grape Leaf blight_(Isariopsis_Leaf_Spot)', 'recommendations':'test etdim2'},\n",
    "              15:{'name': 'Grape Healthy', 'recommendations':'test etdim2'},\n",
    "              16:{'name': 'Orange Haunglongbing (Citrus greening)', 'recommendations':'test etdim2'},\n",
    "              17:{'name': 'Peach Bacterial Spot', 'recommendations':'test etdim2'},\n",
    "              18:{'name': 'Peach healthy', 'recommendations':'test etdim2'},\n",
    "              19:{'name': 'Pepper bell Bacterial spot', 'recommendations':'test etdim2'},\n",
    "              20:{'name': 'Pepper bell healthy', 'recommendations':'test etdim2'},\n",
    "              21:{'name': 'Potato Early blight', 'recommendations':'test etdim2'},\n",
    "              22:{'name': 'Potato Late blight', 'recommendations':'test etdim2'},\n",
    "              23:{'name': 'Potato healthy', 'recommendations':'test etdim2'},\n",
    "              24:{'name': 'Raspberry healthy', 'recommendations':'test etdim2'},\n",
    "              25:{'name': 'Soybean healthy', 'recommendations':'test etdim2'},\n",
    "              26:{'name': 'Squash Powdery_mildew', 'recommendations':'test etdim2'},\n",
    "              27:{'name': 'Strawberry Leaf scorch', 'recommendations':'test etdim2'},\n",
    "              28:{'name': 'Strawberry healthy', 'recommendations':'test etdim2'},\n",
    "              29:{'name': 'Tomato Bacterial spot', 'recommendations':'test etdim2'},\n",
    "              30:{'name': 'Tomato Early blight', 'recommendations':'test etdim2'},\n",
    "              31:{'name': 'Tomato Late Blight', 'recommendations':'test etdim2'},\n",
    "              32:{'name': 'Tomato Leaf Mold', 'recommendations':'test etdim2'},\n",
    "              33:{'name': 'Tomato Septoria leaf spot', 'recommendations':'test etdim2'},\n",
    "              34:{'name': 'Tomato Spider mites Two-spotted spider mite', 'recommendations':'test etdim2'},\n",
    "              35:{'name': 'Tomato Target Spot', 'recommendations':'test etdim2'},\n",
    "              36:{'name': 'Tomato Yellow Leaf Curl Virus', 'recommendations':'test etdim2'},\n",
    "              37:{'name': 'Tomato mosaic virus', 'recommendations':'test etdim2'},\n",
    "              38:{'name': 'Tomato Healthy', 'recommendations':'test etdim2'},\n",
    "              39:{'name': 'background', 'recommendations':'test etdim2'},\n",
    "              \n",
    "              \n",
    "}"
   ]
  },
  {
   "cell_type": "code",
   "execution_count": 5,
   "id": "f6631726",
   "metadata": {},
   "outputs": [
    {
     "name": "stdout",
     "output_type": "stream",
     "text": [
      "<PIL.JpegImagePlugin.JpegImageFile image mode=RGB size=256x256 at 0x74CCDD5FE9E0>\n"
     ]
    }
   ],
   "source": [
    "device = torch.device(\"cuda\" if torch.cuda.is_available() else \"cpu\")\n",
    "\n",
    "\n",
    "    \n",
    "\n",
    "\n",
    "MODEL_PATH = f\"/home/murad/Belgeler/yolowebapp3/detection/yolo/leaf_dis.pt\"\n",
    "model = torch.load(MODEL_PATH, map_location='cpu')\n",
    "model.eval()\n",
    "img_path= \"/home/murad/Belgeler/yolowebapp3/static/images/0a14783a-838a-4d4f-a671-ff98011714c6___FREC_Scab 3288_XjpCeLn.JPG\"\n",
    "new_img = Image.open(img_path)#.convert('RGB')\n",
    "print(new_img)\n",
    "new_img = new_img.resize((256, 256)) \n",
    "\n",
    "\n",
    "\n",
    "\n",
    "new_img = transform(new_img)\n",
    "out = model(new_img.unsqueeze(0) )       \n",
    "confidence, prediction = torch.max(out, 1)\n",
    "\n",
    "class_name = leaf_class.get(prediction.item(), )"
   ]
  },
  {
   "cell_type": "code",
   "execution_count": 6,
   "id": "a74ca580",
   "metadata": {},
   "outputs": [
    {
     "name": "stdout",
     "output_type": "stream",
     "text": [
      "None 15.400466918945312\n"
     ]
    }
   ],
   "source": [
    "print(class_name,confidence.item())"
   ]
  },
  {
   "cell_type": "code",
   "execution_count": 7,
   "id": "7f2f5da9",
   "metadata": {},
   "outputs": [
    {
     "data": {
      "text/plain": [
       "tensor([0])"
      ]
     },
     "execution_count": 7,
     "metadata": {},
     "output_type": "execute_result"
    }
   ],
   "source": [
    "prediction"
   ]
  },
  {
   "cell_type": "code",
   "execution_count": null,
   "id": "d013768d",
   "metadata": {},
   "outputs": [],
   "source": []
  }
 ],
 "metadata": {
  "kernelspec": {
   "display_name": "myprojectenv",
   "language": "python",
   "name": "python3"
  },
  "language_info": {
   "codemirror_mode": {
    "name": "ipython",
    "version": 3
   },
   "file_extension": ".py",
   "mimetype": "text/x-python",
   "name": "python",
   "nbconvert_exporter": "python",
   "pygments_lexer": "ipython3",
   "version": "3.10.12"
  }
 },
 "nbformat": 4,
 "nbformat_minor": 5
}
